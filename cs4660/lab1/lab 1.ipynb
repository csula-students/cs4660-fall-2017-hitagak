{
 "cells": [
  {
   "cell_type": "markdown",
   "metadata": {},
   "source": [
    "# <center>CS 4660 Lab 1</center>\n",
    "\n",
    "#### <div align = \"right\">Hiroko Itagaki    (CIN: 305064830) </div>\n"
   ]
  },
  {
   "cell_type": "markdown",
   "metadata": {},
   "source": [
    "#### 1. Import the numpy package with the alias np"
   ]
  },
  {
   "cell_type": "code",
   "execution_count": 45,
   "metadata": {
    "collapsed": true
   },
   "outputs": [],
   "source": [
    "import numpy as np"
   ]
  },
  {
   "cell_type": "markdown",
   "metadata": {},
   "source": [
    "#### 2. Create a vector of zeros of size 10 but the fifth value which is 1 "
   ]
  },
  {
   "cell_type": "code",
   "execution_count": 46,
   "metadata": {},
   "outputs": [
    {
     "name": "stdout",
     "output_type": "stream",
     "text": [
      "[0 0 0 0 1 0 0 0 0 0]\n"
     ]
    }
   ],
   "source": [
    "vector = np.zeros(10, dtype=int)\n",
    "vector[4] = 1\n",
    "print(vector)"
   ]
  },
  {
   "cell_type": "markdown",
   "metadata": {},
   "source": [
    "#### 3. Create a 3 X 3 array of any values. Add a column of ones to the end"
   ]
  },
  {
   "cell_type": "code",
   "execution_count": 47,
   "metadata": {},
   "outputs": [
    {
     "name": "stdout",
     "output_type": "stream",
     "text": [
      "[[0 1 1]\n",
      " [3 4 1]\n",
      " [6 7 1]]\n"
     ]
    }
   ],
   "source": [
    "a = np.arange(9).reshape((3,3))\n",
    "a[:, -1:] = 1\n",
    "print(a)"
   ]
  },
  {
   "cell_type": "markdown",
   "metadata": {},
   "source": [
    "#### 4. Create a vector with values ranging from 10 to 49 "
   ]
  },
  {
   "cell_type": "code",
   "execution_count": 48,
   "metadata": {},
   "outputs": [
    {
     "name": "stdout",
     "output_type": "stream",
     "text": [
      "[10 11 12 13 14 15 16 17 18 19 20 21 22 23 24 25 26 27 28 29 30 31 32 33 34\n",
      " 35 36 37 38 39 40 41 42 43 44 45 46 47 48 49]\n"
     ]
    }
   ],
   "source": [
    "vector2 = np.arange(10, 50)\n",
    "print(vector2)"
   ]
  },
  {
   "cell_type": "markdown",
   "metadata": {},
   "source": [
    "#### 5. Reverse the above vector (first element becomes last)"
   ]
  },
  {
   "cell_type": "code",
   "execution_count": 49,
   "metadata": {},
   "outputs": [
    {
     "name": "stdout",
     "output_type": "stream",
     "text": [
      "[49 48 47 46 45 44 43 42 41 40 39 38 37 36 35 34 33 32 31 30 29 28 27 26 25\n",
      " 24 23 22 21 20 19 18 17 16 15 14 13 12 11 10]\n"
     ]
    }
   ],
   "source": [
    "print(vector2[::-1])"
   ]
  },
  {
   "cell_type": "markdown",
   "metadata": {},
   "source": [
    "#### 6. Create a 4x4 matrix with values ranging from 0 to 15 "
   ]
  },
  {
   "cell_type": "code",
   "execution_count": 50,
   "metadata": {},
   "outputs": [
    {
     "name": "stdout",
     "output_type": "stream",
     "text": [
      "[[ 0  1  2  3]\n",
      " [ 4  5  6  7]\n",
      " [ 8  9 10 11]\n",
      " [12 13 14 15]]\n"
     ]
    }
   ],
   "source": [
    "vector3 = np.arange(16).reshape((4,4))\n",
    "print(vector3)"
   ]
  },
  {
   "cell_type": "markdown",
   "metadata": {},
   "source": [
    "#### 7. Create a 3x3x3 array with random values "
   ]
  },
  {
   "cell_type": "code",
   "execution_count": 51,
   "metadata": {
    "scrolled": true
   },
   "outputs": [
    {
     "name": "stdout",
     "output_type": "stream",
     "text": [
      "[[[55 73 82]\n",
      "  [47 97 36]\n",
      "  [49  3 27]]\n",
      "\n",
      " [[17 33 26]\n",
      "  [42 73 36]\n",
      "  [ 6 60  4]]\n",
      "\n",
      " [[31 64 98]\n",
      "  [55 32 28]\n",
      "  [56 20 74]]]\n"
     ]
    }
   ],
   "source": [
    "d = np.floor(100 * np.random.random((3,3,3))).astype(int)\n",
    "print(d)"
   ]
  },
  {
   "cell_type": "markdown",
   "metadata": {},
   "source": [
    "#### 8. Create a 10x10 array with random values and find the minimum and maximum values "
   ]
  },
  {
   "cell_type": "code",
   "execution_count": 52,
   "metadata": {},
   "outputs": [
    {
     "name": "stdout",
     "output_type": "stream",
     "text": [
      "array: \n",
      " [[25 83 88 45 65 55 34 96 82 34]\n",
      " [75 99 28 29  2 66 46 60 60 69]\n",
      " [40 74 94 82 62 30 98  4 88  5]\n",
      " [62 23 51 53 81 41  6  1 99 57]\n",
      " [ 0 44  9 18 20 16 23 93 95  7]\n",
      " [32 62 64 14 21 55 51 31  9 54]\n",
      " [94 73 12 76  9  9  7  1 73 45]\n",
      " [75 88 84 26 11 64 73 85 42 97]\n",
      " [45 33 63 90 48 61 27 30 13 99]\n",
      " [19 24 72 57  8 18 76 24 20 30]]\n",
      "\n",
      "\n",
      "Minimum value :  0\n",
      "Maximum value:  99\n"
     ]
    }
   ],
   "source": [
    "array = np.floor(100 * np.random.random((10,10))).astype(int)\n",
    "print('array: \\n', array)\n",
    "\n",
    "print ('\\n')\n",
    "\n",
    "print('Minimum value : ', array.min())\n",
    "print('Maximum value: ', array.max())"
   ]
  },
  {
   "cell_type": "markdown",
   "metadata": {},
   "source": [
    "#### 9. Create a random vector of size 30 and find the mean value "
   ]
  },
  {
   "cell_type": "code",
   "execution_count": 53,
   "metadata": {},
   "outputs": [
    {
     "name": "stdout",
     "output_type": "stream",
     "text": [
      "Vector 4: \n",
      " [82 29  0 41 74 65 84 21 54 52 86 14 69 75 52 38 27 98 84 66 17 15 91 37 19\n",
      " 31 80 24 27 51]\n",
      "\n",
      "\n",
      "Mean value : 47.4666666667\n"
     ]
    }
   ],
   "source": [
    "vector4 = np.floor(100 * np.random.random((30))).astype(int)\n",
    "print('Vector 4: \\n', vector4)\n",
    "\n",
    "print ('\\n')\n",
    "\n",
    "print('Mean value :', np.mean(e))"
   ]
  },
  {
   "cell_type": "markdown",
   "metadata": {},
   "source": [
    "#### 10. What does NaN mean? Submit in a comment"
   ]
  },
  {
   "cell_type": "markdown",
   "metadata": {},
   "source": [
    "NaN means \"Not a number\", and it is a float value. \n",
    "\n",
    "NaN is not equal to 0.\n",
    "\n",
    "It is used when the result cannot be expressed as a number.\n",
    "\n",
    "ex) print(float(\"inf\")-float(\"inf\")) \n"
   ]
  },
  {
   "cell_type": "markdown",
   "metadata": {},
   "source": [
    "#### 11. Write a function that takes 1D array and negates all elements which are between 3 and 8, in place. Demo it with an array of your choosing"
   ]
  },
  {
   "cell_type": "code",
   "execution_count": 59,
   "metadata": {},
   "outputs": [
    {
     "name": "stdout",
     "output_type": "stream",
     "text": [
      "[7 9 1 7 6 3 9 1 1 6 4 3 9 1 7 1 5 7 0 6 7 6 5 2 8 6 8 9 5 3]\n",
      "[-7  9  1 -7 -6 -3  9  1  1 -6 -4 -3  9  1 -7  1 -5 -7  0 -6 -7 -6 -5  2 -8\n",
      " -6 -8  9 -5 -3]\n"
     ]
    }
   ],
   "source": [
    "# Negate elements between 3 and 8 on array\n",
    "def negates(array):\n",
    "    array[(array >= 3) & (array <= 8)] *= -1\n",
    "\n",
    "\n",
    "array_1D = np.floor(10 * np.random.random((30))).astype(int)\n",
    "    \n",
    "print(array_1D)\n",
    "negates(array_1D)\n",
    "print(array_1D)"
   ]
  },
  {
   "cell_type": "code",
   "execution_count": null,
   "metadata": {
    "collapsed": true
   },
   "outputs": [],
   "source": []
  },
  {
   "cell_type": "code",
   "execution_count": null,
   "metadata": {
    "collapsed": true
   },
   "outputs": [],
   "source": []
  },
  {
   "cell_type": "code",
   "execution_count": null,
   "metadata": {
    "collapsed": true
   },
   "outputs": [],
   "source": []
  }
 ],
 "metadata": {
  "kernelspec": {
   "display_name": "Python 3",
   "language": "python",
   "name": "python3"
  },
  "language_info": {
   "codemirror_mode": {
    "name": "ipython",
    "version": 3
   },
   "file_extension": ".py",
   "mimetype": "text/x-python",
   "name": "python",
   "nbconvert_exporter": "python",
   "pygments_lexer": "ipython3",
   "version": "3.6.1"
  }
 },
 "nbformat": 4,
 "nbformat_minor": 2
}
